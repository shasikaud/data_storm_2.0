{
  "nbformat": 4,
  "nbformat_minor": 0,
  "metadata": {
    "colab": {
      "name": "data storm 2.0",
      "provenance": [],
      "collapsed_sections": []
    },
    "kernelspec": {
      "name": "python3",
      "display_name": "Python 3"
    }
  },
  "cells": [
    {
      "cell_type": "markdown",
      "metadata": {
        "id": "zbXEOOILXSoO"
      },
      "source": [
        "Importing libraries"
      ]
    },
    {
      "cell_type": "code",
      "metadata": {
        "id": "Ni8wtBh3UlP8"
      },
      "source": [
        "import numpy as np\r\n",
        "import matplotlib.pyplot as plt\r\n",
        "import pandas as pd"
      ],
      "execution_count": null,
      "outputs": []
    },
    {
      "cell_type": "markdown",
      "metadata": {
        "id": "pjPJFtQ4XXuy"
      },
      "source": [
        "Preparing dataset"
      ]
    },
    {
      "cell_type": "code",
      "metadata": {
        "id": "DSqxCBaAWN8b"
      },
      "source": [
        "dataset = pd.read_csv('/content/drive/MyDrive/data_storm_2/new-set.csv')"
      ],
      "execution_count": null,
      "outputs": []
    },
    {
      "cell_type": "code",
      "metadata": {
        "id": "9b4z45aaZOnl"
      },
      "source": [
        "y = dataset.iloc[:,20].values\r\n",
        "cols = [0,20]   #drop id and checkin\r\n",
        "dataset.drop(dataset.columns[cols],axis=1,inplace=True)\r\n",
        "x = dataset.iloc[:,:].values"
      ],
      "execution_count": null,
      "outputs": []
    },
    {
      "cell_type": "code",
      "metadata": {
        "id": "w5pyYokC5QPW"
      },
      "source": [
        "y = np.where(y==\"Check-In\",1,y)     #encode\r\n",
        "y = np.where(y==\"Canceled\",2,y)\r\n",
        "y = np.where(y==\"No-Show\",3,y)"
      ],
      "execution_count": null,
      "outputs": []
    },
    {
      "cell_type": "code",
      "metadata": {
        "colab": {
          "base_uri": "https://localhost:8080/"
        },
        "id": "ZWoe9lY_WvMM",
        "outputId": "6ebf24f7-70b5-4f47-ea9b-32b07f2742dc"
      },
      "source": [
        "print(x[0])\r\n",
        "print(y)"
      ],
      "execution_count": null,
      "outputs": [
        {
          "output_type": "stream",
          "text": [
            "['F' 40 'Latino' 'Grad' '<25K' 'North' 'City Hotel' '7/1/2015' '7/2/2015'\n",
            " '5/21/2015' 2 2 0 'BB' 'No' 'No' 'No Deposit' 'Online' 'Yes' 'Yes' 10 218]\n",
            "[1 1 1 ... 3 1 1]\n"
          ],
          "name": "stdout"
        }
      ]
    },
    {
      "cell_type": "markdown",
      "metadata": {
        "id": "bGgQ7kF3hS4F"
      },
      "source": [
        "*Preprocessing - Date Conversion*"
      ]
    },
    {
      "cell_type": "code",
      "metadata": {
        "id": "Xbi3IPkJhVTl"
      },
      "source": [
        "booking = x[:,9]       #copy booking dates\r\n",
        "checkout = x[:,8]      #copy check-in dates\r\n",
        "checkin = x[:,7]       #copy check-out dates"
      ],
      "execution_count": null,
      "outputs": []
    },
    {
      "cell_type": "code",
      "metadata": {
        "colab": {
          "base_uri": "https://localhost:8080/"
        },
        "id": "UriKjZ6Chfyb",
        "outputId": "9967c4de-9f51-4d38-d3ca-5ea5ffdc1490"
      },
      "source": [
        "print(booking)\r\n",
        "print(checkout)\r\n",
        "print(checkin)"
      ],
      "execution_count": null,
      "outputs": [
        {
          "output_type": "stream",
          "text": [
            "['5/21/2015' '5/26/2015' '6/29/2015' ... '10/19/2016' '6/1/2016'\n",
            " '5/23/2016']\n",
            "['7/2/2015' '7/2/2015' '7/6/2015' ... '11/20/2016' '11/19/2016'\n",
            " '11/21/2016']\n",
            "['7/1/2015' '7/1/2015' '7/2/2015' ... '11/18/2016' '11/18/2016'\n",
            " '11/18/2016']\n"
          ],
          "name": "stdout"
        }
      ]
    },
    {
      "cell_type": "code",
      "metadata": {
        "id": "0TfSuNlfkek-"
      },
      "source": [
        "### func and class template to calculate the date difference between two given calendar dates\r\n",
        "### source : w3schools | added minor modifications\r\n",
        "\r\n",
        "class Date:\r\n",
        "    def __init__(self, d, m, y):\r\n",
        "        self.d = d\r\n",
        "        self.m = m\r\n",
        "        self.y = y\r\n",
        " \r\n",
        "monthDays = [31, 28, 31, 30, 31, 30,\r\n",
        "             31, 31, 30, 31, 30, 31]\r\n",
        " \r\n",
        "def countLeapYears(d):\r\n",
        "    years = d.y\r\n",
        "    if (d.m <= 2):\r\n",
        "        years -= 1\r\n",
        "    return int(years / 4) - int(years / 100) + int(years / 400)\r\n",
        " \r\n",
        "def getDifference(dt1, dt2): \r\n",
        "    n1 = dt1.y * 365 + dt1.d\r\n",
        "    for i in range(0, dt1.m - 1):\r\n",
        "        n1 += monthDays[i]\r\n",
        "    n1 += countLeapYears(dt1)\r\n",
        "    n2 = dt2.y * 365 + dt2.d\r\n",
        "    for i in range(0, dt2.m - 1):\r\n",
        "        n2 += monthDays[i]\r\n",
        "    n2 += countLeapYears(dt2)\r\n",
        "    return (n2 - n1)"
      ],
      "execution_count": null,
      "outputs": []
    },
    {
      "cell_type": "code",
      "metadata": {
        "id": "rw0x0OvBhhuS"
      },
      "source": [
        "diff1 = [] #difference in days between booking and checkin\r\n",
        "diff2 = [] #difference in days between checkin and checkout\r\n",
        "month = [] #month of each booking to capture any seasonal variations\r\n",
        "\r\n",
        "for i in range(len(booking)):\r\n",
        "  arr1 = booking[i].split(\"/\")  #booking date\r\n",
        "  arr2 = checkin[i].split(\"/\")  #checkin date\r\n",
        "  arr3 = checkout[i].split(\"/\")  #checkout date\r\n",
        "  month.append(int(arr2[0]))   #stores month of each booking to capture any seasonal variations\r\n",
        "  dt1 = Date(int(arr1[1]), int(arr1[0]), int(arr1[2]))   #booking date\r\n",
        "  dt2 = Date(int(arr2[1]), int(arr2[0]), int(arr2[2]))   #checkin date\r\n",
        "  dt3 = Date(int(arr3[1]), int(arr3[0]), int(arr3[2]))   #checkout date\r\n",
        "  diff1.append(getDifference(dt1, dt2))   #difference in days between booking and checkin\r\n",
        "  diff2.append(getDifference(dt2, dt3))   #difference in days between checkin and checkout\r\n"
      ],
      "execution_count": null,
      "outputs": []
    },
    {
      "cell_type": "code",
      "metadata": {
        "id": "DnoSFLngrGjs"
      },
      "source": [
        "np_month = np.array(month).reshape(len(booking),1)   #reshaping np obj\r\n",
        "np_diff1 = np.array(diff1).reshape(len(booking),1)   #reshaping np obj\r\n",
        "np_diff2 = np.array(diff2).reshape(len(booking),1)   #reshaping np obj"
      ],
      "execution_count": null,
      "outputs": []
    },
    {
      "cell_type": "code",
      "metadata": {
        "id": "SgDAAOvsi950"
      },
      "source": [
        "x = np.append(x, np_month, axis=1)    #append new column | month -> captures any seasonal variations that might affect bookings\r\n",
        "x = np.append(x, np_diff1, axis=1)    #append new column | difference in days between booking and checkin -> how well in advance does the user books\r\n",
        "x = np.append(x, np_diff2, axis=1)    #append new column | difference in days between checkin and checkout -> duration of stay planned by the user"
      ],
      "execution_count": null,
      "outputs": []
    },
    {
      "cell_type": "code",
      "metadata": {
        "colab": {
          "base_uri": "https://localhost:8080/"
        },
        "id": "AwWr4wSTowKU",
        "outputId": "d01ed5d3-1987-47f7-b03a-d93e05444616"
      },
      "source": [
        "print(x[0])"
      ],
      "execution_count": null,
      "outputs": [
        {
          "output_type": "stream",
          "text": [
            "['F' 40 'Latino' 'Grad' '<25K' 'North' 'City Hotel' '7/1/2015' '7/2/2015'\n",
            " '5/21/2015' 2 2 0 'BB' 'No' 'No' 'No Deposit' 'Online' 'Yes' 'Yes' 10 218\n",
            " 7 41 1]\n"
          ],
          "name": "stdout"
        }
      ]
    },
    {
      "cell_type": "code",
      "metadata": {
        "id": "UpyFN0-mvRd1"
      },
      "source": [
        "x = np.delete(x,7,axis=1)       #delete checkin date column\r\n",
        "x = np.delete(x,7,axis=1)       #delete checkout date column\r\n",
        "x = np.delete(x,7,axis=1)       #delete booking date column"
      ],
      "execution_count": null,
      "outputs": []
    },
    {
      "cell_type": "code",
      "metadata": {
        "colab": {
          "base_uri": "https://localhost:8080/"
        },
        "id": "nlpCJMbFvcL2",
        "outputId": "9173bacd-8fcd-4ccd-d132-6085a163ed52"
      },
      "source": [
        "print(x[0])"
      ],
      "execution_count": null,
      "outputs": [
        {
          "output_type": "stream",
          "text": [
            "['F' 40 'Latino' 'Grad' '<25K' 'North' 'City Hotel' 2 2 0 'BB' 'No' 'No'\n",
            " 'No Deposit' 'Online' 'Yes' 'Yes' 10 218 7 41 1]\n"
          ],
          "name": "stdout"
        }
      ]
    },
    {
      "cell_type": "markdown",
      "metadata": {
        "id": "unpoYCif0AWF"
      },
      "source": [
        "Preprocessing - One Hot Encoding"
      ]
    },
    {
      "cell_type": "code",
      "metadata": {
        "id": "Rho_YtT1veSt"
      },
      "source": [
        "from sklearn.compose import ColumnTransformer\r\n",
        "from sklearn.preprocessing import OneHotEncoder"
      ],
      "execution_count": null,
      "outputs": []
    },
    {
      "cell_type": "code",
      "metadata": {
        "id": "j_GW1tkb1k7f"
      },
      "source": [
        "ct = ColumnTransformer(transformers=[('encoder',OneHotEncoder(), [0,2,3,4,5,6,10,11,12,13,14,15,16,19])], remainder='passthrough')"
      ],
      "execution_count": null,
      "outputs": []
    },
    {
      "cell_type": "code",
      "metadata": {
        "id": "L1B-R90_6HYL"
      },
      "source": [
        "x = ct.fit_transform(x)     #apply one hot label encoding to categorical data "
      ],
      "execution_count": null,
      "outputs": []
    },
    {
      "cell_type": "code",
      "metadata": {
        "colab": {
          "base_uri": "https://localhost:8080/"
        },
        "id": "1R1H6klb6qr9",
        "outputId": "7d7e0046-9ce0-44fd-a1fc-68afd02766fc"
      },
      "source": [
        "print(x[3])\r\n",
        "print(x[3][50])"
      ],
      "execution_count": null,
      "outputs": [
        {
          "output_type": "stream",
          "text": [
            "[0.0 1.0 1.0 0.0 0.0 0.0 1.0 0.0 0.0 0.0 0.0 0.0 0.0 1.0 0.0 0.0 1.0 0.0\n",
            " 1.0 0.0 0.0 1.0 0.0 0.0 1.0 0.0 1.0 0.0 0.0 0.0 1.0 1.0 0.0 0.0 0.0 1.0\n",
            " 0.0 1.0 0.0 0.0 0.0 0.0 0.0 0.0 1.0 0.0 0.0 0.0 0.0 0.0 25 4 3 0 5 144 12\n",
            " 1]\n",
            "25\n"
          ],
          "name": "stdout"
        }
      ]
    },
    {
      "cell_type": "markdown",
      "metadata": {
        "id": "pdWGHWWV7Yen"
      },
      "source": [
        "Splitting the dataset"
      ]
    },
    {
      "cell_type": "code",
      "metadata": {
        "id": "6LiCkgFF6sf5"
      },
      "source": [
        "from sklearn.model_selection import train_test_split\r\n",
        "x_train, x_test, y_train, y_test = train_test_split(x, y, test_size = 0.0001, random_state = 1)"
      ],
      "execution_count": null,
      "outputs": []
    },
    {
      "cell_type": "code",
      "metadata": {
        "colab": {
          "base_uri": "https://localhost:8080/"
        },
        "id": "mLQEKpygd6CJ",
        "outputId": "619fa70d-8580-402e-cfed-83e7d22d7b87"
      },
      "source": [
        "from google.colab import drive\n",
        "drive.mount('/content/drive')"
      ],
      "execution_count": null,
      "outputs": [
        {
          "output_type": "stream",
          "text": [
            "Drive already mounted at /content/drive; to attempt to forcibly remount, call drive.mount(\"/content/drive\", force_remount=True).\n"
          ],
          "name": "stdout"
        }
      ]
    },
    {
      "cell_type": "code",
      "metadata": {
        "colab": {
          "base_uri": "https://localhost:8080/"
        },
        "id": "qzrgXt7JAfSz",
        "outputId": "4a7a5d1f-16ae-4d8a-bfd8-ffcce1914b5e"
      },
      "source": [
        "print (x_train)"
      ],
      "execution_count": null,
      "outputs": [
        {
          "output_type": "stream",
          "text": [
            "[[0.0 1.0 1.0 ... 108 179 3]\n",
            " [1.0 0.0 0.0 ... 134 54 3]\n",
            " [0.0 1.0 0.0 ... 192 195 2]\n",
            " ...\n",
            " [0.0 1.0 1.0 ... 129 99 2]\n",
            " [1.0 0.0 0.0 ... 234 43 1]\n",
            " [1.0 0.0 0.0 ... 214 140 2]]\n"
          ],
          "name": "stdout"
        }
      ]
    },
    {
      "cell_type": "code",
      "metadata": {
        "colab": {
          "base_uri": "https://localhost:8080/"
        },
        "id": "RhCcZ_kbApB3",
        "outputId": "90391049-278e-4a35-ae8a-ba63f4ae039c"
      },
      "source": [
        "print (x_test)"
      ],
      "execution_count": null,
      "outputs": [
        {
          "output_type": "stream",
          "text": [
            "[[0.0 1.0 1.0 0.0 0.0 0.0 0.0 1.0 0.0 0.0 1.0 0.0 0.0 0.0 0.0 0.0 1.0 0.0\n",
            "  1.0 0.0 0.0 1.0 0.0 0.0 1.0 0.0 1.0 0.0 1.0 0.0 0.0 0.0 0.0 1.0 1.0 0.0\n",
            "  0.0 1.0 0.0 0.0 0.0 0.0 0.0 0.0 0.0 0.0 0.0 0.0 1.0 0.0 36 2 1 0 25 215\n",
            "  22 2]\n",
            " [1.0 0.0 1.0 0.0 0.0 0.0 1.0 0.0 0.0 0.0 0.0 1.0 0.0 0.0 1.0 0.0 0.0 0.0\n",
            "  0.0 0.0 1.0 1.0 0.0 0.0 0.0 1.0 1.0 0.0 1.0 0.0 0.0 0.0 1.0 0.0 0.0 1.0\n",
            "  0.0 1.0 0.0 0.0 0.0 0.0 0.0 0.0 0.0 0.0 1.0 0.0 0.0 0.0 56 1 1 0 25 232\n",
            "  67 1]\n",
            " [0.0 1.0 0.0 0.0 1.0 0.0 1.0 0.0 0.0 0.0 0.0 1.0 0.0 0.0 0.0 0.0 1.0 0.0\n",
            "  0.0 0.0 1.0 1.0 0.0 0.0 0.0 1.0 1.0 0.0 1.0 0.0 0.0 0.0 0.0 1.0 0.0 1.0\n",
            "  0.0 1.0 0.0 0.0 0.0 0.0 0.0 0.0 0.0 1.0 0.0 0.0 0.0 0.0 30 2 2 1 10 230\n",
            "  10 1]\n",
            " [1.0 0.0 0.0 0.0 1.0 0.0 0.0 1.0 0.0 0.0 0.0 0.0 1.0 0.0 0.0 0.0 1.0 0.0\n",
            "  0.0 0.0 1.0 0.0 1.0 0.0 1.0 0.0 1.0 0.0 0.0 0.0 1.0 0.0 0.0 1.0 0.0 1.0\n",
            "  0.0 1.0 0.0 0.0 0.0 0.0 1.0 0.0 0.0 0.0 0.0 0.0 0.0 0.0 30 2 2 1 10 234\n",
            "  187 2]]\n"
          ],
          "name": "stdout"
        }
      ]
    },
    {
      "cell_type": "code",
      "metadata": {
        "colab": {
          "base_uri": "https://localhost:8080/"
        },
        "id": "RAgewI7PApPW",
        "outputId": "60c8eaed-dfda-4eac-8fde-61e3dd65246b"
      },
      "source": [
        "print (y_train)"
      ],
      "execution_count": null,
      "outputs": [
        {
          "output_type": "stream",
          "text": [
            "[3 3 3 ... 1 1 3]\n"
          ],
          "name": "stdout"
        }
      ]
    },
    {
      "cell_type": "code",
      "metadata": {
        "colab": {
          "base_uri": "https://localhost:8080/"
        },
        "id": "6P8CuE5nApgS",
        "outputId": "e0f5a4d2-398b-4a5c-c801-e1c441016922"
      },
      "source": [
        "print (y_test)"
      ],
      "execution_count": null,
      "outputs": [
        {
          "output_type": "stream",
          "text": [
            "[1 1 1 1]\n"
          ],
          "name": "stdout"
        }
      ]
    },
    {
      "cell_type": "markdown",
      "metadata": {
        "id": "KfLmdbUxAoLP"
      },
      "source": [
        "Feature Scaling"
      ]
    },
    {
      "cell_type": "code",
      "metadata": {
        "id": "Q2FDtklTA-Xz"
      },
      "source": [
        "from sklearn.preprocessing import StandardScaler\r\n",
        "sc = StandardScaler()                             #apply feature scaling to remove bias from scalar values"
      ],
      "execution_count": null,
      "outputs": []
    },
    {
      "cell_type": "code",
      "metadata": {
        "id": "6z5jCVfbGjF2"
      },
      "source": [
        "x_train[:, 50:] = sc.fit_transform(x_train[:, 50:])    #ignore the label encoded columns\r\n",
        "x_test[:, 50:] = sc.transform(x_test[:, 50:])          #use the same scaler"
      ],
      "execution_count": null,
      "outputs": []
    },
    {
      "cell_type": "code",
      "metadata": {
        "colab": {
          "base_uri": "https://localhost:8080/"
        },
        "id": "SZ12OhFJIlmM",
        "outputId": "2aa376f7-47d2-4245-9934-7e3402dff28e"
      },
      "source": [
        "print(x_test[0])"
      ],
      "execution_count": null,
      "outputs": [
        {
          "output_type": "stream",
          "text": [
            "[0.0 1.0 1.0 0.0 0.0 0.0 0.0 1.0 0.0 0.0 1.0 0.0 0.0 0.0 0.0 0.0 1.0 0.0\n",
            " 1.0 0.0 0.0 1.0 0.0 0.0 1.0 0.0 1.0 0.0 1.0 0.0 0.0 0.0 0.0 1.0 1.0 0.0\n",
            " 0.0 1.0 0.0 0.0 0.0 0.0 0.0 0.0 0.0 0.0 0.0 0.0 1.0 0.0\n",
            " -0.5229314150694613 -0.2836381915102924 -1.0296061758089174\n",
            " -0.6109338239669695 1.1164166549436279 0.9115883729845674\n",
            " -1.1426906429980788 0.16994969721984118]\n"
          ],
          "name": "stdout"
        }
      ]
    },
    {
      "cell_type": "code",
      "metadata": {
        "colab": {
          "base_uri": "https://localhost:8080/"
        },
        "id": "2CH0G6x9IogS",
        "outputId": "bb717014-d098-4e30-cbae-5063c00872f6"
      },
      "source": [
        "print(x_train[0])"
      ],
      "execution_count": null,
      "outputs": [
        {
          "output_type": "stream",
          "text": [
            "[0.0 1.0 1.0 0.0 0.0 0.0 1.0 0.0 0.0 0.0 0.0 0.0 1.0 0.0 0.0 0.0 1.0 0.0\n",
            " 1.0 0.0 0.0 0.0 1.0 0.0 1.0 0.0 1.0 0.0 0.0 0.0 1.0 0.0 1.0 0.0 0.0 1.0\n",
            " 1.0 0.0 0.0 0.0 0.0 0.0 0.0 0.0 0.0 0.0 0.0 1.0 0.0 0.0\n",
            " 0.7846943692404547 -0.2836381915102924 -1.0296061758089174\n",
            " -0.6109338239669695 -1.1152655425814606 -1.5270818702810562\n",
            " 0.8982746794270753 1.1859525916094191]\n"
          ],
          "name": "stdout"
        }
      ]
    },
    {
      "cell_type": "markdown",
      "metadata": {
        "id": "4MsgG3MSJAxD"
      },
      "source": [
        "# **Classification model**"
      ]
    },
    {
      "cell_type": "markdown",
      "metadata": {
        "id": "cTm6uRxtRMRq"
      },
      "source": [
        "Parameter Tuning"
      ]
    },
    {
      "cell_type": "code",
      "metadata": {
        "id": "Cw23Pvg4rtbm"
      },
      "source": [
        "# #parameter tuning\r\n",
        "# from sklearn.model_selection import GridSearchCV \r\n",
        "  \r\n",
        "# defining parameter range \r\n",
        "param_grid = {'C': [0.1, 1, 10, 100, 1000],  \r\n",
        "              'gamma': [1, 0.1, 0.01, 0.001, 0.0001], \r\n",
        "              'kernel': ['rbf']}  \r\n",
        "  \r\n",
        "grid = GridSearchCV(SVC(), param_grid, refit = True, verbose = 3) \r\n",
        "  \r\n",
        "# fitting the model for grid search \r\n",
        "grid.fit(x_train.astype(int), y_train.astype(int)) \r\n",
        "\r\n",
        "# print best parameter after tuning \r\n",
        "print(grid.best_params_) \r\n",
        "  \r\n",
        "# print how our model looks after hyper-parameter tuning \r\n",
        "print(grid.best_estimator_) "
      ],
      "execution_count": null,
      "outputs": []
    },
    {
      "cell_type": "markdown",
      "metadata": {
        "id": "ebSyz9qRRRmI"
      },
      "source": [
        "Check on validation set"
      ]
    },
    {
      "cell_type": "code",
      "metadata": {
        "id": "fMEprTINRVKZ"
      },
      "source": [
        "## add code here to test on validation"
      ],
      "execution_count": null,
      "outputs": []
    },
    {
      "cell_type": "markdown",
      "metadata": {
        "id": "5IYxAeizLWkz"
      },
      "source": [
        "Training the model"
      ]
    },
    {
      "cell_type": "code",
      "metadata": {
        "colab": {
          "base_uri": "https://localhost:8080/"
        },
        "id": "--JYOouAJAXz",
        "outputId": "8eafa36b-044b-4e52-c083-dd37ee7070a5"
      },
      "source": [
        "# from sklearn.ensemble import RandomForestClassifier\r\n",
        "# classifier = RandomForestClassifier(n_estimators = 10000, criterion = 'entropy', random_state = 0)\r\n",
        "# classifier.fit(x_train.astype(int), y_train.astype(int))\r\n",
        "\r\n",
        "from sklearn.svm import SVC\r\n",
        "classifier = SVC(kernel='poly', degree=8)\r\n",
        "classifier.fit(x_train.astype(int), y_train.astype(int))\r\n",
        "\r\n",
        "# y_pred = y_pred.reshape(len(y_pred),1)\r\n",
        "# y_test = y_test.reshape(len(y_test),1)\r\n",
        "\r\n",
        "# from sklearn.naive_bayes import GaussianNB\r\n",
        "# classifier = GaussianNB()\r\n",
        "# classifier.fit(x_train.astype(int), y_train.astype(int))\r\n",
        "\r\n",
        "# from lightgbm import LGBMClassifier\r\n",
        "# classifier = LGBMClassifier()\r\n",
        "# classifier.fit(x_train.astype(int), y_train.astype(int))"
      ],
      "execution_count": null,
      "outputs": [
        {
          "output_type": "execute_result",
          "data": {
            "text/plain": [
              "GaussianNB(priors=None, var_smoothing=1e-09)"
            ]
          },
          "metadata": {
            "tags": []
          },
          "execution_count": 83
        }
      ]
    },
    {
      "cell_type": "code",
      "metadata": {
        "id": "CcHhD6m99YKD"
      },
      "source": [
        "# # print best parameter after tuning \r\n",
        "# print(grid.best_params_) \r\n",
        "  \r\n",
        "# # print how our model looks after hyper-parameter tuning \r\n",
        "# print(grid.best_estimator_) "
      ],
      "execution_count": null,
      "outputs": []
    },
    {
      "cell_type": "code",
      "metadata": {
        "id": "D0KUeXDCMRUI"
      },
      "source": [
        "# import xgboost\r\n",
        "# classifier = xgboost.XGBClassifier()\r\n",
        "# classifier.fit(x_train, y_train)"
      ],
      "execution_count": null,
      "outputs": []
    },
    {
      "cell_type": "markdown",
      "metadata": {
        "id": "EhkpY95HLaCB"
      },
      "source": [
        "Prediction on train data set"
      ]
    },
    {
      "cell_type": "code",
      "metadata": {
        "id": "Bh27CpwJIrY3"
      },
      "source": [
        "y_pred = classifier.predict(x_test)     #predict on the test set of the training data"
      ],
      "execution_count": null,
      "outputs": []
    },
    {
      "cell_type": "code",
      "metadata": {
        "id": "-4Oqkve_MgAK"
      },
      "source": [
        "# print (np.concatenate((y_pred.reshape(len(y_pred),1), y_test.reshape(len(y_test),1)),1))"
      ],
      "execution_count": null,
      "outputs": []
    },
    {
      "cell_type": "markdown",
      "metadata": {
        "id": "-05MBQZuNASl"
      },
      "source": [
        "Confusion Matrix"
      ]
    },
    {
      "cell_type": "code",
      "metadata": {
        "id": "OPPbMnjHPZLy"
      },
      "source": [
        "# print (y_pred.shape)\r\n",
        "# print (y_test.shape)\r\n",
        "\r\n",
        "# y_pred = y_pred.reshape(len(y_pred),1)\r\n",
        "# y_test = y_test.reshape(len(y_test),1)\r\n",
        "\r\n",
        "# print (y_pred.shape)\r\n",
        "# print (y_test.shape)"
      ],
      "execution_count": null,
      "outputs": []
    },
    {
      "cell_type": "code",
      "metadata": {
        "colab": {
          "base_uri": "https://localhost:8080/"
        },
        "id": "GjslXWUYQADs",
        "outputId": "6cd044c1-8f04-4717-a77e-6c1c29b91f8d"
      },
      "source": [
        "correct = 0\r\n",
        "for i in range(len(y_pred)):\r\n",
        "  if (y_pred[i] == y_test[i]):\r\n",
        "    correct +=1\r\n",
        "print (correct/len(y_pred))"
      ],
      "execution_count": null,
      "outputs": [
        {
          "output_type": "stream",
          "text": [
            "1.0\n"
          ],
          "name": "stdout"
        }
      ]
    },
    {
      "cell_type": "code",
      "metadata": {
        "colab": {
          "base_uri": "https://localhost:8080/"
        },
        "id": "xYCG5tdoM1Kr",
        "outputId": "04492962-1df9-4b09-9e39-0e91089f69b8"
      },
      "source": [
        "from sklearn.metrics import classification_report, confusion_matrix\r\n",
        "print(confusion_matrix(y_test.astype(int), y_pred.astype(int)))\r\n",
        "print(classification_report(y_test.astype(int), y_pred.astype(int)))"
      ],
      "execution_count": null,
      "outputs": [
        {
          "output_type": "stream",
          "text": [
            "[[4]]\n",
            "              precision    recall  f1-score   support\n",
            "\n",
            "           1       1.00      1.00      1.00         4\n",
            "\n",
            "    accuracy                           1.00         4\n",
            "   macro avg       1.00      1.00      1.00         4\n",
            "weighted avg       1.00      1.00      1.00         4\n",
            "\n"
          ],
          "name": "stdout"
        }
      ]
    },
    {
      "cell_type": "markdown",
      "metadata": {
        "id": "BxbtaoObRVGC"
      },
      "source": [
        "## Test on the new dataset"
      ]
    },
    {
      "cell_type": "code",
      "metadata": {
        "id": "algpawcwNW3B"
      },
      "source": [
        "testset = pd.read_csv('/content/drive/MyDrive/data_storm_2/Hotel-A-test.csv')        #test set"
      ],
      "execution_count": null,
      "outputs": []
    },
    {
      "cell_type": "code",
      "metadata": {
        "id": "TxLSg7BmR5UI"
      },
      "source": [
        "z = testset.iloc[:,1:].values        #remove first column"
      ],
      "execution_count": null,
      "outputs": []
    },
    {
      "cell_type": "code",
      "metadata": {
        "colab": {
          "base_uri": "https://localhost:8080/"
        },
        "id": "6xKSY53ZSUVF",
        "outputId": "fb48f9ac-f991-46ec-b90a-402d70716638"
      },
      "source": [
        "print (z[0])"
      ],
      "execution_count": null,
      "outputs": [
        {
          "output_type": "stream",
          "text": [
            "['F' 52 'Latino' 'Grad' '25K --50K' 'South' 'City Hotel' '11/18/2016'\n",
            " '11/19/2016' '10/28/2016' 3 3 0 'HB' 'No' 'No' 'No Deposit' 'Direct'\n",
            " 'Yes' 'Yes' 10 153]\n"
          ],
          "name": "stdout"
        }
      ]
    },
    {
      "cell_type": "code",
      "metadata": {
        "id": "2HEezQMKSV0a"
      },
      "source": [
        "booking = z[:,9]           #copy bookin dates\r\n",
        "checkout = z[:,8]          #copy checkout dates\r\n",
        "checkin = z[:,7]           #copy checkin dates"
      ],
      "execution_count": null,
      "outputs": []
    },
    {
      "cell_type": "code",
      "metadata": {
        "colab": {
          "base_uri": "https://localhost:8080/"
        },
        "id": "2vt6PZTpSqi-",
        "outputId": "3e726b74-4704-4745-fbaf-c11457e2b651"
      },
      "source": [
        "print(booking)\r\n",
        "print(checkout)\r\n",
        "print(checkin)"
      ],
      "execution_count": null,
      "outputs": [
        {
          "output_type": "stream",
          "text": [
            "['10/28/2016' '8/6/2016' '4/8/2017' ... '8/26/2016' '3/4/2017' '3/29/2017']\n",
            "['11/19/2016' '11/19/2016' '5/1/2017' ... '3/30/2017' '3/30/2017'\n",
            " '3/30/2017']\n",
            "['11/18/2016' '11/18/2016' '4/28/2017' ... '3/29/2017' '3/29/2017'\n",
            " '3/29/2017']\n"
          ],
          "name": "stdout"
        }
      ]
    },
    {
      "cell_type": "code",
      "metadata": {
        "id": "WUiteTO8Sr8x"
      },
      "source": [
        "diff1 = [] #stores difference in days between booking and checkin\r\n",
        "diff2 = [] #stores difference in days between checkin and checkout\r\n",
        "month = [] #stores month of each booking to capture any seasonal variations\r\n",
        "\r\n",
        "for i in range(len(booking)):\r\n",
        "  arr1 = booking[i].split(\"/\")  #booking date\r\n",
        "  arr2 = checkin[i].split(\"/\")  #checkin date\r\n",
        "  arr3 = checkout[i].split(\"/\")  #checkout date\r\n",
        "  month.append(int(arr2[0]))   #stores month of each booking to capture any seasonal variations\r\n",
        "  dt1 = Date(int(arr1[1]), int(arr1[0]), int(arr1[2]))   #booking date\r\n",
        "  dt2 = Date(int(arr2[1]), int(arr2[0]), int(arr2[2]))   #checkin date\r\n",
        "  dt3 = Date(int(arr3[1]), int(arr3[0]), int(arr3[2]))   #checkout date\r\n",
        "  diff1.append(getDifference(dt1, dt2))   #day difference between booking and checkin\r\n",
        "  diff2.append(getDifference(dt2, dt3))   #day difference between checkin and checkout"
      ],
      "execution_count": null,
      "outputs": []
    },
    {
      "cell_type": "code",
      "metadata": {
        "id": "EXShuPRoS4Vo"
      },
      "source": [
        "np_month = np.array(month).reshape(len(booking),1)   #reshaping np obj\r\n",
        "np_diff1 = np.array(diff1).reshape(len(booking),1)   #reshaping np obj\r\n",
        "np_diff2 = np.array(diff2).reshape(len(booking),1)   #reshaping np obj"
      ],
      "execution_count": null,
      "outputs": []
    },
    {
      "cell_type": "code",
      "metadata": {
        "id": "IPK-5LlpS9r8"
      },
      "source": [
        "z = np.append(z, np_month, axis=1)    #append new column | month of checkin -> to capture seasonal variations\r\n",
        "z = np.append(z,np_diff1, axis=1)     #append new column  | duration of prior booking before checkin\r\n",
        "z = np.append(z, np_diff2, axis=1)    #append new column | duration of hotel stay i.e. difference between checkin vs checkout"
      ],
      "execution_count": null,
      "outputs": []
    },
    {
      "cell_type": "code",
      "metadata": {
        "id": "1wj55wMATFxo"
      },
      "source": [
        "z = np.delete(z,7,axis=1)       #delete checkin column\r\n",
        "z = np.delete(z,7,axis=1)       #delete checkout column\r\n",
        "z = np.delete(z,7,axis=1)       #delete bookin column"
      ],
      "execution_count": null,
      "outputs": []
    },
    {
      "cell_type": "code",
      "metadata": {
        "colab": {
          "base_uri": "https://localhost:8080/"
        },
        "id": "h2aJwU5nTV2g",
        "outputId": "81b95c0e-6eb0-4890-94b6-5e4d922e9727"
      },
      "source": [
        "print (z[0])"
      ],
      "execution_count": null,
      "outputs": [
        {
          "output_type": "stream",
          "text": [
            "['F' 52 'Latino' 'Grad' '25K --50K' 'South' 'City Hotel' 3 3 0 'HB' 'No'\n",
            " 'No' 'No Deposit' 'Direct' 'Yes' 'Yes' 10 153 11 21 1]\n"
          ],
          "name": "stdout"
        }
      ]
    },
    {
      "cell_type": "code",
      "metadata": {
        "id": "qgpiEZJ2Tefq"
      },
      "source": [
        "#ct = ColumnTransformer(transformers=[('encoder',OneHotEncoder(), [0,2,3,4,5,6,10,11,12,13,14,15,16,19])], remainder='passthrough')\r\n",
        "z = ct.transform(z)      #hot encode lable the categorical data"
      ],
      "execution_count": null,
      "outputs": []
    },
    {
      "cell_type": "code",
      "metadata": {
        "colab": {
          "base_uri": "https://localhost:8080/"
        },
        "id": "65hFW5pbTqCQ",
        "outputId": "816ec54f-6329-40e2-84d1-bd09febecdf5"
      },
      "source": [
        "print (z[0])\r\n",
        "print (z[0][50])"
      ],
      "execution_count": null,
      "outputs": [
        {
          "output_type": "stream",
          "text": [
            "[1.0 0.0 0.0 0.0 1.0 0.0 0.0 1.0 0.0 0.0 1.0 0.0 0.0 0.0 0.0 0.0 1.0 0.0\n",
            " 0.0 1.0 0.0 0.0 0.0 1.0 1.0 0.0 1.0 0.0 1.0 0.0 0.0 0.0 1.0 0.0 0.0 1.0\n",
            " 0.0 1.0 0.0 0.0 0.0 0.0 0.0 0.0 0.0 0.0 0.0 0.0 1.0 0.0 52 3 3 0 10 153\n",
            " 21 1]\n",
            "52\n"
          ],
          "name": "stdout"
        }
      ]
    },
    {
      "cell_type": "code",
      "metadata": {
        "id": "RW3e8PSeTuuH"
      },
      "source": [
        "z[:, 50:] = sc.transform(z[:, 50:])       #use the same scaler"
      ],
      "execution_count": null,
      "outputs": []
    },
    {
      "cell_type": "code",
      "metadata": {
        "id": "aGyDONGQV7HS"
      },
      "source": [
        "y_pred = classifier.predict(z)            #predict for the test set using the trained classifier"
      ],
      "execution_count": null,
      "outputs": []
    },
    {
      "cell_type": "code",
      "metadata": {
        "colab": {
          "base_uri": "https://localhost:8080/"
        },
        "id": "oVOh8oZ8V-1o",
        "outputId": "92ce554c-9ba9-4509-c8fb-62efc78ac87c"
      },
      "source": [
        "print (y_pred)"
      ],
      "execution_count": null,
      "outputs": [
        {
          "output_type": "stream",
          "text": [
            "[1 2 1 ... 1 1 1]\n"
          ],
          "name": "stdout"
        }
      ]
    },
    {
      "cell_type": "code",
      "metadata": {
        "colab": {
          "base_uri": "https://localhost:8080/"
        },
        "id": "N8rpT5aLWAju",
        "outputId": "30c9472f-5b66-4243-c1e0-c149258c5af8"
      },
      "source": [
        "import csv                                  #write out to a csv file\r\n",
        "with open('results.csv', 'w', newline='') as file:\r\n",
        "    writer = csv.writer(file)\r\n",
        "    results = []\r\n",
        "    for i in y_pred:\r\n",
        "      writer.writerow([i])\r\n",
        "      if i not in results:\r\n",
        "        results.append(i)\r\n",
        "        print (i)"
      ],
      "execution_count": null,
      "outputs": [
        {
          "output_type": "stream",
          "text": [
            "1\n",
            "2\n",
            "3\n"
          ],
          "name": "stdout"
        }
      ]
    },
    {
      "cell_type": "code",
      "metadata": {
        "id": "tyJWsLxFWD8R"
      },
      "source": [
        ""
      ],
      "execution_count": null,
      "outputs": []
    }
  ]
}